{
 "cells": [
  {
   "cell_type": "markdown",
   "metadata": {
    "collapsed": true,
    "pycharm": {
     "name": "#%% md\n"
    }
   },
   "source": [
    "1. 자료형 분류\n",
    "    - 컬렉션: 리스트[], 튜플(), 딕셔너리{}, 셋{}\n",
    "    - 시퀀스: 순서가 있는 연속된 자료. ex) 리스트, 튜플\n",
    "\n",
    "2. 리스트 []\n",
    "    - string과 동일 ex) 인덱싱(-index는 뒤를 기준), 슬라이싱"
   ]
  },
  {
   "cell_type": "code",
   "execution_count": 3,
   "outputs": [
    {
     "name": "stdout",
     "output_type": "stream",
     "text": [
      "[1, 2, 3, 4]\n",
      "python\n",
      "[3.14, 9]\n"
     ]
    }
   ],
   "source": [
    "list1 = [1, 2, 3, 4]\n",
    "list2 = [\n",
    "    list1,\n",
    "    [True, 3.14, 9, \"python\"]\n",
    "]\n",
    "print(list2[0])\n",
    "print(list2[-1][-1])\n",
    "print(list2[1][1:3])"
   ],
   "metadata": {
    "collapsed": false,
    "pycharm": {
     "name": "#%%\n"
    }
   }
  },
  {
   "cell_type": "markdown",
   "source": [
    "    - 문자열 -> 리스트"
   ],
   "metadata": {
    "collapsed": false,
    "pycharm": {
     "name": "#%% md\n"
    }
   }
  },
  {
   "cell_type": "code",
   "execution_count": 12,
   "outputs": [
    {
     "name": "stdout",
     "output_type": "stream",
     "text": [
      "['H', 'E', 'L', 'L', 'O']\n"
     ]
    }
   ],
   "source": [
    "list3 = list(\"Hello\".upper())\n",
    "print(list3)"
   ],
   "metadata": {
    "collapsed": false,
    "pycharm": {
     "name": "#%%\n"
    }
   }
  },
  {
   "cell_type": "markdown",
   "source": [
    "    - 추가 append, insert\n",
    "    - 삭제 remove, del, pop, clear\n",
    "    - index, count, copy\n",
    "    - max, min, sum\n",
    "    - sort, reverse(앞뒤 순서가 반전)"
   ],
   "metadata": {
    "collapsed": false
   }
  },
  {
   "cell_type": "code",
   "execution_count": 16,
   "outputs": [
    {
     "name": "stdout",
     "output_type": "stream",
     "text": [
      "['WORLD']\n",
      "['WORLD', ' ', '!']\n"
     ]
    }
   ],
   "source": [
    "list3.clear()\n",
    "list3.append(\"world\".upper())\n",
    "print(list3)\n",
    "list3.append('!')\n",
    "list3.insert(1, ' ')\n",
    "print(list3)"
   ],
   "metadata": {
    "collapsed": false,
    "pycharm": {
     "name": "#%%\n"
    }
   }
  },
  {
   "cell_type": "code",
   "execution_count": 22,
   "outputs": [
    {
     "name": "stdout",
     "output_type": "stream",
     "text": [
      "['H', 'e', 'l', 'l', 'o', ' ', 'W', 'o', 'r', 'l', 'd', '!']\n",
      "['H', 'e', 'l', 'l', 'o', ' ', 'W', 'o', 'r', 'l', 'd', '!']\n",
      "True\n"
     ]
    }
   ],
   "source": [
    "hello = list(\"Hello\")\n",
    "world = list(\" World!\")\n",
    "list4 = hello.copy()\n",
    "list4.extend(world)\n",
    "print(list4)\n",
    "print(hello + world)\n",
    "print(list4 == (hello + world))\n"
   ],
   "metadata": {
    "collapsed": false,
    "pycharm": {
     "name": "#%%\n"
    }
   }
  },
  {
   "cell_type": "markdown",
   "source": [
    "3. 튜플 ()\n",
    "     - 리스트와 유사하나 요소 변경 불가"
   ],
   "metadata": {
    "collapsed": false
   }
  },
  {
   "cell_type": "code",
   "execution_count": 23,
   "outputs": [
    {
     "name": "stdout",
     "output_type": "stream",
     "text": [
      "python\n"
     ]
    }
   ],
   "source": [
    "tp = (3.14, 100, \"python\")\n",
    "print(tp[-1])\n"
   ],
   "metadata": {
    "collapsed": false,
    "pycharm": {
     "name": "#%%\n"
    }
   }
  },
  {
   "cell_type": "markdown",
   "source": [
    "4. 딕셔너리 {}\n",
    "    - 키로 값에 접근\n",
    "    - keys, values, len\n",
    "    - del, pop, clear"
   ],
   "metadata": {
    "collapsed": false
   }
  },
  {
   "cell_type": "code",
   "execution_count": 25,
   "outputs": [
    {
     "name": "stdout",
     "output_type": "stream",
     "text": [
      "dict_keys(['id', 'name'])\n",
      "{'id': 3, 'name': 'Test', 'grade': 'A'}\n",
      "dict_values(['Test', 'A'])\n"
     ]
    }
   ],
   "source": [
    "dict = {\"id\": 3, \"name\": \"Test\"}\n",
    "print(dict.keys())\n",
    "dict[\"grade\"] = 'A'\n",
    "print(dict)\n",
    "dict.pop(\"id\")\n",
    "print(dict.values())"
   ],
   "metadata": {
    "collapsed": false,
    "pycharm": {
     "name": "#%%\n"
    }
   }
  },
  {
   "cell_type": "markdown",
   "source": [
    "5. set {}\n",
    "    - 딕셔너리에서 값 없이 키만 있는 특수한 형태\n",
    "    - 딕셔너리 기반이므로 순서가 없고 키 값은 중복이 불가능하므로 각 값은 모두 다름"
   ],
   "metadata": {
    "collapsed": false
   }
  },
  {
   "cell_type": "code",
   "execution_count": 31,
   "outputs": [
    {
     "name": "stdout",
     "output_type": "stream",
     "text": [
      "{1, 2, 3, 4}\n",
      "{1, 2, 3, 4}\n",
      "{1, 2, 3}\n",
      "{1, 2, 3, 4, 6, 8}\n"
     ]
    }
   ],
   "source": [
    "s1 = {1, 3, 4}\n",
    "s1.add(2)\n",
    "print(s1)\n",
    "s1.add(1)\n",
    "print(s1)\n",
    "s1.remove(4)\n",
    "print(s1)\n",
    "s1.update([8, 6, 4, 2])\n",
    "print(s1)"
   ],
   "metadata": {
    "collapsed": false,
    "pycharm": {
     "name": "#%%\n"
    }
   }
  },
  {
   "cell_type": "code",
   "execution_count": 32,
   "outputs": [
    {
     "name": "stdout",
     "output_type": "stream",
     "text": [
      "{1, 2, 3, 4, 6, 8}\n",
      "{1, 6}\n",
      "{8, 2, 4}\n"
     ]
    }
   ],
   "source": [
    "s2 = {1, 2, 4, 6, 8}\n",
    "s3 = {1, 3, 6}\n",
    "print(s2.union(s3)) # s2 | s3\n",
    "print(s2.intersection(s3)) # s2 & s3\n",
    "print(s2.difference(s3)) # s2 - s3"
   ],
   "metadata": {
    "collapsed": false,
    "pycharm": {
     "name": "#%%\n"
    }
   }
  }
 ],
 "metadata": {
  "kernelspec": {
   "name": "datascience",
   "language": "python",
   "display_name": "Python(dataScience)"
  },
  "language_info": {
   "codemirror_mode": {
    "name": "ipython",
    "version": 2
   },
   "file_extension": ".py",
   "mimetype": "text/x-python",
   "name": "python",
   "nbconvert_exporter": "python",
   "pygments_lexer": "ipython2",
   "version": "2.7.6"
  }
 },
 "nbformat": 4,
 "nbformat_minor": 0
}