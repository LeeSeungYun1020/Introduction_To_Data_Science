{
 "cells": [
  {
   "cell_type": "markdown",
   "metadata": {
    "collapsed": true,
    "pycharm": {
     "name": "#%% md\n"
    }
   },
   "source": [
    "1. 파일 열기/닫기\n",
    "    - f = open(파일 이름, 모드)\n",
    "    - f.close()\n"
   ]
  },
  {
   "cell_type": "code",
   "execution_count": 4,
   "outputs": [],
   "source": [
    "f = open('./05_file.txt', 'w')\n",
    "f.write(\"파일에 쓰기\\n\")\n",
    "f.close()"
   ],
   "metadata": {
    "collapsed": false,
    "pycharm": {
     "name": "#%%\n"
    }
   }
  },
  {
   "cell_type": "markdown",
   "source": [
    "2. 파일 내용 추가"
   ],
   "metadata": {
    "collapsed": false
   }
  },
  {
   "cell_type": "code",
   "execution_count": 5,
   "outputs": [
    {
     "name": "stdout",
     "output_type": "stream",
     "text": [
      "첫번째 내용\n",
      "2222222\n",
      "3번\n",
      "마지막 줄\n"
     ]
    }
   ],
   "source": [
    "f = open('./05_file.txt', 'a')\n",
    "for _ in range(4):\n",
    "    tem = input(\"입력할 내용: \")\n",
    "    print(tem)\n",
    "    f.write(f\"{tem}\\n\")\n",
    "f.close()"
   ],
   "metadata": {
    "collapsed": false,
    "pycharm": {
     "name": "#%%\n"
    }
   }
  },
  {
   "cell_type": "markdown",
   "source": [
    "3. 파일 읽기"
   ],
   "metadata": {
    "collapsed": false
   }
  },
  {
   "cell_type": "code",
   "execution_count": 6,
   "outputs": [
    {
     "name": "stdout",
     "output_type": "stream",
     "text": [
      "파일에 쓰기\n",
      "\n",
      "첫번째 내용\n",
      "\n",
      "2222222\n",
      "\n",
      "3번\n",
      "\n",
      "마지막 줄\n",
      "\n"
     ]
    }
   ],
   "source": [
    "f = open('./05_file.txt', 'r')\n",
    "while True:\n",
    "    text = f.readline()\n",
    "    if not text: break\n",
    "    print(text)\n",
    "f.close()"
   ],
   "metadata": {
    "collapsed": false,
    "pycharm": {
     "name": "#%%\n"
    }
   }
  },
  {
   "cell_type": "code",
   "execution_count": 7,
   "outputs": [
    {
     "name": "stdout",
     "output_type": "stream",
     "text": [
      "['파일에 쓰기\\n', '첫번째 내용\\n', '2222222\\n', '3번\\n', '마지막 줄\\n']\n",
      "파일에 쓰기\n",
      "첫번째 내용\n",
      "2222222\n",
      "3번\n",
      "마지막 줄\n"
     ]
    }
   ],
   "source": [
    "f = open('./05_file.txt', 'r')\n",
    "texts = f.readlines()\n",
    "print(texts)\n",
    "for text in texts:\n",
    "    print(text, end='')\n",
    "f.close()"
   ],
   "metadata": {
    "collapsed": false,
    "pycharm": {
     "name": "#%%\n"
    }
   }
  },
  {
   "cell_type": "code",
   "execution_count": 10,
   "outputs": [
    {
     "name": "stdout",
     "output_type": "stream",
     "text": [
      "파일\n",
      "에\n",
      "['쓰기', '첫번째', '내용', '2222222', '3번', '마지막', '줄']\n"
     ]
    }
   ],
   "source": [
    "f = open('./05_file.txt', 'r')\n",
    "print(f.read(2))\n",
    "print(f.read(1))\n",
    "text = f.read()\n",
    "print(text.split())\n",
    "f.close()"
   ],
   "metadata": {
    "collapsed": false,
    "pycharm": {
     "name": "#%%\n"
    }
   }
  },
  {
   "cell_type": "markdown",
   "source": [
    "4. CSV 파일"
   ],
   "metadata": {
    "collapsed": false
   }
  },
  {
   "cell_type": "code",
   "execution_count": 13,
   "outputs": [
    {
     "name": "stdout",
     "output_type": "stream",
     "text": [
      "['감자', ' 5000']\n",
      "['무', ' 1200']\n",
      "['배추', ' 3000']\n",
      "['고구마', ' 8500']\n"
     ]
    }
   ],
   "source": [
    "import csv\n",
    "f = open('./05_file.csv', 'r')\n",
    "data = csv.reader(f)\n",
    "for datum in data:\n",
    "    print(datum)\n",
    "f.close()"
   ],
   "metadata": {
    "collapsed": false,
    "pycharm": {
     "name": "#%%\n"
    }
   }
  },
  {
   "cell_type": "markdown",
   "source": [
    "5. with를 이용한 파일 닫기\n",
    "    - with 블록 벗어나면 파일 닫힘"
   ],
   "metadata": {
    "collapsed": false
   }
  },
  {
   "cell_type": "code",
   "execution_count": 15,
   "outputs": [
    {
     "name": "stdout",
     "output_type": "stream",
     "text": [
      "파일\n"
     ]
    }
   ],
   "source": [
    "with open('05_file.txt', 'r') as f:\n",
    "    print(f.read(2))"
   ],
   "metadata": {
    "collapsed": false,
    "pycharm": {
     "name": "#%%\n"
    }
   }
  }
 ],
 "metadata": {
  "kernelspec": {
   "name": "datascience",
   "language": "python",
   "display_name": "Python(dataScience)"
  },
  "language_info": {
   "codemirror_mode": {
    "name": "ipython",
    "version": 2
   },
   "file_extension": ".py",
   "mimetype": "text/x-python",
   "name": "python",
   "nbconvert_exporter": "python",
   "pygments_lexer": "ipython2",
   "version": "2.7.6"
  }
 },
 "nbformat": 4,
 "nbformat_minor": 0
}