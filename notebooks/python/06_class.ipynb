{
 "cells": [
  {
   "cell_type": "markdown",
   "metadata": {
    "collapsed": true,
    "pycharm": {
     "name": "#%% md\n"
    }
   },
   "source": [
    "1. 클래스 정의\n",
    "    - 메소드에는 자신의 객체 self가 포함"
   ]
  },
  {
   "cell_type": "code",
   "execution_count": 4,
   "outputs": [
    {
     "name": "stdout",
     "output_type": "stream",
     "text": [
      "안녕하세요 학생입니다.\n"
     ]
    }
   ],
   "source": [
    "class Person:\n",
    "    def info(self, name):\n",
    "        self.name = name\n",
    "\n",
    "    def show(self):\n",
    "        print(f\"안녕하세요 {self.name}입니다.\")\n",
    "student = Person()\n",
    "student.info(\"학생\")\n",
    "student.show()"
   ],
   "metadata": {
    "collapsed": false,
    "pycharm": {
     "name": "#%%\n"
    }
   }
  },
  {
   "cell_type": "code",
   "execution_count": 5,
   "outputs": [
    {
     "name": "stdout",
     "output_type": "stream",
     "text": [
      "학생\n"
     ]
    },
    {
     "ename": "AttributeError",
     "evalue": "'Person' object has no attribute 'name'",
     "output_type": "error",
     "traceback": [
      "\u001B[1;31m---------------------------------------------------------------------------\u001B[0m",
      "\u001B[1;31mAttributeError\u001B[0m                            Traceback (most recent call last)",
      "\u001B[1;32m<ipython-input-5-32e8dc3691b1>\u001B[0m in \u001B[0;36m<module>\u001B[1;34m\u001B[0m\n\u001B[0;32m      1\u001B[0m \u001B[0mprint\u001B[0m\u001B[1;33m(\u001B[0m\u001B[0mstudent\u001B[0m\u001B[1;33m.\u001B[0m\u001B[0mname\u001B[0m\u001B[1;33m)\u001B[0m\u001B[1;33m\u001B[0m\u001B[1;33m\u001B[0m\u001B[0m\n\u001B[1;32m----> 2\u001B[1;33m \u001B[0mprint\u001B[0m\u001B[1;33m(\u001B[0m\u001B[0mPerson\u001B[0m\u001B[1;33m(\u001B[0m\u001B[1;33m)\u001B[0m\u001B[1;33m.\u001B[0m\u001B[0mname\u001B[0m\u001B[1;33m)\u001B[0m\u001B[1;33m\u001B[0m\u001B[1;33m\u001B[0m\u001B[0m\n\u001B[0m",
      "\u001B[1;31mAttributeError\u001B[0m: 'Person' object has no attribute 'name'"
     ]
    }
   ],
   "source": [
    "print(student.name)\n",
    "#print(Person().name)"
   ],
   "metadata": {
    "collapsed": false,
    "pycharm": {
     "name": "#%%\n"
    }
   }
  },
  {
   "cell_type": "markdown",
   "source": [
    "2. \\_\\_init\\_\\_"
   ],
   "metadata": {
    "collapsed": false
   }
  },
  {
   "cell_type": "code",
   "execution_count": 6,
   "outputs": [
    {
     "name": "stdout",
     "output_type": "stream",
     "text": [
      "안녕하세요 이승윤입니다.\n"
     ]
    }
   ],
   "source": [
    "class Person:\n",
    "    def __init__(self, name = \"UnKnown\"):\n",
    "        self.name = name\n",
    "    def show(self):\n",
    "        print(f\"안녕하세요 {self.name}입니다.\")\n",
    "\n",
    "me = Person(\"이승윤\")\n",
    "me.show()\n"
   ],
   "metadata": {
    "collapsed": false,
    "pycharm": {
     "name": "#%%\n"
    }
   }
  },
  {
   "cell_type": "markdown",
   "source": [
    "3. \\_\\_str\\_\\_"
   ],
   "metadata": {
    "collapsed": false
   }
  },
  {
   "cell_type": "code",
   "execution_count": 7,
   "outputs": [
    {
     "name": "stdout",
     "output_type": "stream",
     "text": [
      "안녕하세요 이승윤입니다.\n"
     ]
    }
   ],
   "source": [
    "class Person:\n",
    "    def __init__(self, name = \"UnKnown\"):\n",
    "        self.name = name\n",
    "    def __str__(self):\n",
    "        return f\"안녕하세요 {self.name}입니다.\"\n",
    "\n",
    "me = Person(\"이승윤\")\n",
    "print(me)"
   ],
   "metadata": {
    "collapsed": false,
    "pycharm": {
     "name": "#%%\n"
    }
   }
  },
  {
   "cell_type": "markdown",
   "source": [
    "4. class 변수"
   ],
   "metadata": {
    "collapsed": false
   }
  },
  {
   "cell_type": "code",
   "execution_count": 8,
   "outputs": [
    {
     "name": "stdout",
     "output_type": "stream",
     "text": [
      "고향은 Busan, 이름은 이승윤\n",
      "고향은 Busan, 이름은 홍길동\n"
     ]
    }
   ],
   "source": [
    "class Hometown:\n",
    "    city = \"Busan\"\n",
    "    def __init__(self):\n",
    "        self.name = input(\"이름\")\n",
    "    def __str__(self):\n",
    "        return f\"고향은 {self.city}, 이름은 {self.name}\"\n",
    "\n",
    "p1 = Hometown()\n",
    "p2 = Hometown()\n",
    "print(p1)\n",
    "print(p2)"
   ],
   "metadata": {
    "collapsed": false,
    "pycharm": {
     "name": "#%%\n"
    }
   }
  },
  {
   "cell_type": "code",
   "execution_count": 9,
   "outputs": [
    {
     "name": "stdout",
     "output_type": "stream",
     "text": [
      "고향은 Seoul, 이름은 홍길동\n"
     ]
    }
   ],
   "source": [
    "Hometown.city = \"Seoul\"\n",
    "print(p2)"
   ],
   "metadata": {
    "collapsed": false,
    "pycharm": {
     "name": "#%%\n"
    }
   }
  },
  {
   "cell_type": "markdown",
   "source": [
    "5. 상속"
   ],
   "metadata": {
    "collapsed": false
   }
  },
  {
   "cell_type": "code",
   "execution_count": 10,
   "outputs": [
    {
     "name": "stdout",
     "output_type": "stream",
     "text": [
      "안녕하세요 학생입니다.\n"
     ]
    }
   ],
   "source": [
    "class Student(Person):\n",
    "    def __init__(self, name, grade):\n",
    "        super().__init__(name)\n",
    "        self.grade = grade\n",
    "\n",
    "s1 = Student(\"학생\", 3)\n",
    "print(s1)"
   ],
   "metadata": {
    "collapsed": false,
    "pycharm": {
     "name": "#%%\n"
    }
   }
  },
  {
   "cell_type": "markdown",
   "source": [
    "    - 메소드 오버라이딩"
   ],
   "metadata": {
    "collapsed": false
   }
  },
  {
   "cell_type": "code",
   "execution_count": 11,
   "outputs": [
    {
     "name": "stdout",
     "output_type": "stream",
     "text": [
      "안녕! 3학년 학생이야\n"
     ]
    }
   ],
   "source": [
    "class Student(Person):\n",
    "    def __init__(self, name, grade):\n",
    "        super().__init__(name)\n",
    "        self.grade = grade\n",
    "    def __str__(self):\n",
    "        return f\"안녕! {self.grade}학년 {self.name}이야\"\n",
    "s1 = Student(\"학생\", 3)\n",
    "print(s1)"
   ],
   "metadata": {
    "collapsed": false,
    "pycharm": {
     "name": "#%%\n"
    }
   }
  },
  {
   "cell_type": "code",
   "execution_count": 16,
   "outputs": [
    {
     "name": "stdout",
     "output_type": "stream",
     "text": [
      "안녕하세요 이여름입니다.\n",
      "안녕! 3학년 학생이야\n",
      "안녕하십니까? 여름상사 영업부 김바다 입니다.\n"
     ]
    }
   ],
   "source": [
    "class Person:\n",
    "    def __init__(self, name, job=None):\n",
    "        self.name = name\n",
    "        self.job = job\n",
    "    def __str__(self):\n",
    "        if self.job == \"Student\":\n",
    "            return f\"안녕! {self.grade}학년 {self.name}이야\"\n",
    "        elif self.job == \"Employee\":\n",
    "            return f\"안녕하십니까? {self.company} {self.department} {self.name} 입니다.\"\n",
    "        else:\n",
    "            return f\"안녕하세요 {self.name}입니다.\"\n",
    "\n",
    "class Student(Person):\n",
    "    def __init__(self, name, grade):\n",
    "        super().__init__(name, \"Student\")\n",
    "        self.grade = grade\n",
    "\n",
    "class Employee(Person):\n",
    "    def __init__(self, name, company, department):\n",
    "        super().__init__(name, \"Employee\")\n",
    "        self.company = company\n",
    "        self.department = department\n",
    "\n",
    "print(Person(\"이여름\"))\n",
    "print(Student(\"학생\", 3))\n",
    "print(Employee(\"김바다\", \"여름상사\", \"영업부\"))"
   ],
   "metadata": {
    "collapsed": false,
    "pycharm": {
     "name": "#%%\n"
    }
   }
  }
 ],
 "metadata": {
  "kernelspec": {
   "name": "datascience",
   "language": "python",
   "display_name": "Python(dataScience)"
  },
  "language_info": {
   "codemirror_mode": {
    "name": "ipython",
    "version": 2
   },
   "file_extension": ".py",
   "mimetype": "text/x-python",
   "name": "python",
   "nbconvert_exporter": "python",
   "pygments_lexer": "ipython2",
   "version": "2.7.6"
  }
 },
 "nbformat": 4,
 "nbformat_minor": 0
}