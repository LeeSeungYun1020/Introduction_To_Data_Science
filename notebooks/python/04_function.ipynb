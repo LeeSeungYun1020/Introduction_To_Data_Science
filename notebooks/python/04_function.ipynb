{
 "cells": [
  {
   "cell_type": "markdown",
   "source": [
    "1. 함수 정의"
   ],
   "metadata": {
    "collapsed": false
   }
  },
  {
   "cell_type": "code",
   "execution_count": 2,
   "outputs": [],
   "source": [
    "def add(num1, num2):\n",
    "    sum = num1 + num2\n",
    "    return sum"
   ],
   "metadata": {
    "collapsed": false,
    "pycharm": {
     "name": "#%%\n"
    }
   }
  },
  {
   "cell_type": "markdown",
   "source": [
    "2. 함수 호출"
   ],
   "metadata": {
    "collapsed": false
   }
  },
  {
   "cell_type": "code",
   "source": [
    "result = add(10, 30)\n",
    "print(result)"
   ],
   "metadata": {
    "collapsed": false,
    "pycharm": {
     "name": "#%%\n"
    }
   },
   "execution_count": 3,
   "outputs": [
    {
     "name": "stdout",
     "output_type": "stream",
     "text": [
      "40\n"
     ]
    }
   ]
  },
  {
   "cell_type": "markdown",
   "source": [
    "3. 함수 형태\n",
    "    - return 값은 tuple 형태로 여러개 반환 가능"
   ],
   "metadata": {
    "collapsed": false,
    "pycharm": {
     "name": "#%% md\n"
    }
   }
  },
  {
   "cell_type": "code",
   "execution_count": 5,
   "outputs": [
    {
     "name": "stdout",
     "output_type": "stream",
     "text": [
      "(50, 25.0)\n"
     ]
    }
   ],
   "source": [
    "def calc(num1, num2):\n",
    "    sum = num1 + num2\n",
    "    avg = sum / 2\n",
    "    return sum, avg\n",
    "\n",
    "result = calc(20, 30)\n",
    "print(result)"
   ],
   "metadata": {
    "collapsed": false,
    "pycharm": {
     "name": "#%%\n"
    }
   }
  },
  {
   "cell_type": "markdown",
   "source": [
    "4. 가변 매개변수\n",
    "    - 매개변수가 몇 개인지 모를 때 사용 (여러개 입력)"
   ],
   "metadata": {
    "collapsed": false,
    "pycharm": {
     "name": "#%% md\n"
    }
   }
  },
  {
   "cell_type": "code",
   "execution_count": 8,
   "outputs": [
    {
     "name": "stdout",
     "output_type": "stream",
     "text": [
      "55\n",
      "6\n",
      "0\n"
     ]
    }
   ],
   "source": [
    "def addAll(*num):\n",
    "    sum = 0\n",
    "    for i in num:\n",
    "        sum += i\n",
    "    return sum\n",
    "print(addAll(1, 2, 3, 4, 5, 6, 7, 8, 9, 10))\n",
    "print(addAll(2, 4))\n",
    "print(addAll()) # 없는 경우에도 함수가 호출됨"
   ],
   "metadata": {
    "collapsed": false,
    "pycharm": {
     "name": "#%%\n"
    }
   }
  },
  {
   "cell_type": "markdown",
   "source": [
    "5. 지역 변수, 전역 변수\n"
   ],
   "metadata": {
    "collapsed": false
   }
  },
  {
   "cell_type": "code",
   "execution_count": 9,
   "outputs": [
    {
     "name": "stdout",
     "output_type": "stream",
     "text": [
      "22\n",
      "11\n"
     ]
    }
   ],
   "source": [
    "def a():\n",
    "    x = 22\n",
    "    print(x)\n",
    "def b():\n",
    "    print(x)\n",
    "x = 11\n",
    "a()\n",
    "b()"
   ],
   "metadata": {
    "collapsed": false,
    "pycharm": {
     "name": "#%%\n"
    }
   }
  },
  {
   "cell_type": "markdown",
   "source": [
    "6. 디폴트 매개변수"
   ],
   "metadata": {
    "collapsed": false
   }
  },
  {
   "cell_type": "code",
   "execution_count": 10,
   "outputs": [
    {
     "name": "stdout",
     "output_type": "stream",
     "text": [
      "Hello!\n",
      "Hi~\n"
     ]
    }
   ],
   "source": [
    "def hello(msg = \"Hello!\"):\n",
    "    print(msg)\n",
    "hello()\n",
    "hello(\"Hi~\")"
   ],
   "metadata": {
    "collapsed": false,
    "pycharm": {
     "name": "#%%\n"
    }
   }
  },
  {
   "cell_type": "markdown",
   "source": [
    "7. 실습\n",
    "    - 커피 주문하기"
   ],
   "metadata": {
    "collapsed": false
   }
  },
  {
   "cell_type": "code",
   "execution_count": 29,
   "outputs": [
    {
     "name": "stdout",
     "output_type": "stream",
     "text": [
      "<Menu>\n",
      "아메리카노 \t1500원\n",
      "카페라떼  \t2500원\n",
      "카푸치노  \t2800원\n",
      "요거트   \t3500원\n",
      "요거트 구매 완료\n",
      "잔액 1500원 반환\n",
      "<Menu>\n",
      "아메리카노 \t1500원\n",
      "카페라떼  \t2500원\n",
      "카푸치노  \t2800원\n",
      "요거트   \t3500원\n",
      "금액이 부족합니다.\n",
      "<Menu>\n",
      "아메리카노 \t1500원\n",
      "카페라떼  \t2500원\n",
      "카푸치노  \t2800원\n",
      "요거트   \t3500원\n",
      "카푸치노 구매 완료\n",
      "잔액 7200원 반환\n",
      "<Menu>\n",
      "아메리카노 \t1500원\n",
      "카페라떼  \t2500원\n",
      "카푸치노  \t2800원\n",
      "요거트   \t3500원\n",
      "주문 종료\n"
     ]
    }
   ],
   "source": [
    "# 메뉴\n",
    "menu = {\"아메리카노\": 1500, \"카페라떼\": 2500, \"카푸치노\": 2800, \"요거트\": 3500}\n",
    "# 메뉴 출력\n",
    "def print_menu():\n",
    "    print(\"<Menu>\")\n",
    "    for name in menu:\n",
    "        print(f\"{name:6s}\\t{menu[name]}원\")\n",
    "\n",
    "def buy(name):\n",
    "    money = int(input(\"투입할 금액 입력\"))\n",
    "    price = menu[name]\n",
    "    if money >= price:\n",
    "        print(f\"{name} 구매 완료\")\n",
    "        print(f\"잔액 {money - price}원 반환\")\n",
    "    else:\n",
    "        print(\"금액이 부족합니다.\")\n",
    "\n",
    "def select_menu():\n",
    "    select = input(\"메뉴 입력\")\n",
    "    if select == \"종료\":\n",
    "        print(\"주문 종료\")\n",
    "        return False\n",
    "    elif select in menu:\n",
    "        buy(select)\n",
    "    else:\n",
    "        print(\"판매하지 않는 메뉴입니다.\")\n",
    "    return True\n",
    "\n",
    "while True:\n",
    "    print_menu()\n",
    "    if not select_menu():\n",
    "        break"
   ],
   "metadata": {
    "collapsed": false,
    "pycharm": {
     "name": "#%%\n"
    }
   }
  }
 ],
 "metadata": {
  "kernelspec": {
   "name": "datascience",
   "language": "python",
   "display_name": "Python(dataScience)"
  },
  "language_info": {
   "codemirror_mode": {
    "name": "ipython",
    "version": 2
   },
   "file_extension": ".py",
   "mimetype": "text/x-python",
   "name": "python",
   "nbconvert_exporter": "python",
   "pygments_lexer": "ipython2",
   "version": "2.7.6"
  }
 },
 "nbformat": 4,
 "nbformat_minor": 0
}