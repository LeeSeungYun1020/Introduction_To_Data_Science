{
 "cells": [
  {
   "cell_type": "markdown",
   "metadata": {
    "collapsed": true,
    "pycharm": {
     "name": "#%% md\n"
    }
   },
   "source": [
    "1. 연산\n",
    "    - 관계연산자\n",
    "    - 논리연산자 - and, or, not\n",
    "    - in, not in\n",
    "\n",
    "2. 조건문\n",
    "    - if, elif, else\n",
    "\n",
    "3. 반복문\n",
    "    - for, while\n",
    "    - inf loop, break\n"
   ]
  },
  {
   "cell_type": "code",
   "execution_count": 1,
   "outputs": [
    {
     "name": "stdout",
     "output_type": "stream",
     "text": [
      "apple가 있음\n"
     ]
    }
   ],
   "source": [
    "fruit = {\"apple\", \"banana\", \"peach\"}\n",
    "search = input(\"과일 입력\")\n",
    "if search in fruit:\n",
    "    print(f\"{search}가 있음\")\n",
    "else:\n",
    "    print(f\"{search}는 없음\")\n"
   ],
   "metadata": {
    "collapsed": false,
    "pycharm": {
     "name": "#%%\n"
    }
   }
  },
  {
   "cell_type": "code",
   "execution_count": 3,
   "outputs": [
    {
     "name": "stdout",
     "output_type": "stream",
     "text": [
      "음수 입니다.\n"
     ]
    }
   ],
   "source": [
    "num = int(input(\"숫자 입력\"))\n",
    "if num < 0:\n",
    "    print(\"음수\", end=' ')\n",
    "elif num > 0:\n",
    "    print(\"양수\", end=' ')\n",
    "else:\n",
    "    print(num, end=' ')\n",
    "print(\"입니다.\")\n"
   ],
   "metadata": {
    "collapsed": false,
    "pycharm": {
     "name": "#%%\n"
    }
   }
  },
  {
   "cell_type": "code",
   "execution_count": 5,
   "outputs": [
    {
     "name": "stdout",
     "output_type": "stream",
     "text": [
      "1. 아메리카노\n",
      "2. 카페라떼\n",
      "3. 카푸치노\n",
      "1번 메뉴 선택\n"
     ]
    }
   ],
   "source": [
    "print(\"1. 아메리카노\")\n",
    "print(\"2. 카페라떼\")\n",
    "print(\"3. 카푸치노\")\n",
    "select = int(input(\"메뉴 번호 입력\"))\n",
    "if 0 < select <= 3:\n",
    "    print(f\"{select}번 메뉴 선택\")\n",
    "else:\n",
    "    print(f\"잘못 입력\")\n"
   ],
   "metadata": {
    "collapsed": false,
    "pycharm": {
     "name": "#%%\n"
    }
   }
  },
  {
   "cell_type": "code",
   "execution_count": 13,
   "outputs": [
    {
     "name": "stdout",
     "output_type": "stream",
     "text": [
      "10\n",
      "9\n",
      "8\n",
      "7\n",
      "6\n",
      "5\n",
      "4\n",
      "3\n",
      "2\n",
      "1\n",
      "BOMB\n"
     ]
    }
   ],
   "source": [
    "for i in range(10, 0, -1):\n",
    "    print(i)\n",
    "print(\"BOMB\")\n"
   ],
   "metadata": {
    "collapsed": false,
    "pycharm": {
     "name": "#%%\n"
    }
   }
  },
  {
   "cell_type": "code",
   "execution_count": 14,
   "outputs": [
    {
     "name": "stdout",
     "output_type": "stream",
     "text": [
      "[5, 10, 15, 20, 25, 30, 35, 40, 45, 50, 55, 60, 65, 70, 75, 80, 85, 90, 95, 100]\n",
      "1050\n"
     ]
    }
   ],
   "source": [
    "five = []\n",
    "sum = 0\n",
    "for i in range(5, 101, 5):\n",
    "    five.append(i)\n",
    "    sum += i\n",
    "print(five)\n",
    "print(sum)\n"
   ],
   "metadata": {
    "collapsed": false,
    "pycharm": {
     "name": "#%%\n"
    }
   }
  },
  {
   "cell_type": "code",
   "execution_count": 17,
   "outputs": [
    {
     "name": "stdout",
     "output_type": "stream",
     "text": [
      "TEST"
     ]
    }
   ],
   "source": [
    "list1 = ['T', 'E', 'S', \"T\"]\n",
    "for i in list1:\n",
    "    print(i, end='')\n"
   ],
   "metadata": {
    "collapsed": false,
    "pycharm": {
     "name": "#%%\n"
    }
   }
  },
  {
   "cell_type": "code",
   "execution_count": 20,
   "outputs": [
    {
     "name": "stdout",
     "output_type": "stream",
     "text": [
      "2 + 3 = 5\n",
      "1 + -31 = -30\n",
      "10 + -4 = 6\n",
      "6 + 7 = 13\n"
     ]
    }
   ],
   "source": [
    "list2 = [(2, 3), (1, -31), (10, -4), (6, 7)]\n",
    "for (x, y) in list2:\n",
    "    print(f\"{x} + {y} = {x + y}\")"
   ],
   "metadata": {
    "collapsed": false,
    "pycharm": {
     "name": "#%%\n"
    }
   }
  },
  {
   "cell_type": "code",
   "execution_count": 23,
   "outputs": [
    {
     "name": "stdout",
     "output_type": "stream",
     "text": [
      "* * * * \n",
      "* * * * \n",
      "* * * * \n",
      "* * * * \n"
     ]
    }
   ],
   "source": [
    "n = int(input(\"정사각형 한 변 길이\"))\n",
    "for i in range(n):\n",
    "    for j in range(n):\n",
    "        print('*', end= ' ')\n",
    "    print()"
   ],
   "metadata": {
    "collapsed": false,
    "pycharm": {
     "name": "#%%\n"
    }
   }
  },
  {
   "cell_type": "code",
   "execution_count": 24,
   "outputs": [
    {
     "name": "stdout",
     "output_type": "stream",
     "text": [
      "짝수\n",
      "홀수\n",
      "홀수\n",
      "짝수\n",
      "짝수\n"
     ]
    }
   ],
   "source": [
    "while True:\n",
    "    n = int(input(\"숫자 입력\"))\n",
    "    if n == 0:\n",
    "        break\n",
    "\n",
    "    if n % 2 == 0:\n",
    "        print(\"짝수\")\n",
    "    else:\n",
    "        print(\"홀수\")"
   ],
   "metadata": {
    "collapsed": false,
    "pycharm": {
     "name": "#%%\n"
    }
   }
  }
 ],
 "metadata": {
  "kernelspec": {
   "name": "datascience",
   "language": "python",
   "display_name": "Python(dataScience)"
  },
  "language_info": {
   "codemirror_mode": {
    "name": "ipython",
    "version": 2
   },
   "file_extension": ".py",
   "mimetype": "text/x-python",
   "name": "python",
   "nbconvert_exporter": "python",
   "pygments_lexer": "ipython2",
   "version": "2.7.6"
  }
 },
 "nbformat": 4,
 "nbformat_minor": 0
}