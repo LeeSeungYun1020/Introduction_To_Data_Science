{
 "cells": [
  {
   "cell_type": "markdown",
   "source": [
    "1. 변수와 연산\n",
    "    - // 연산은 몫을 계산한다. -> 주석은 #을 사용한다.\n",
    "    - ** 연산은 제곱을 계산한다."
   ],
   "metadata": {
    "collapsed": false
   }
  },
  {
   "cell_type": "code",
   "execution_count": 1,
   "metadata": {
    "collapsed": true
   },
   "outputs": [
    {
     "name": "stdout",
     "output_type": "stream",
     "text": [
      "3.3333333333333335\n",
      "3\n",
      "8\n"
     ]
    }
   ],
   "source": [
    "a = 10\n",
    "b = 3\n",
    "print(a / b)\n",
    "print(a // b)\n",
    "print(2 ** b)"
   ]
  },
  {
   "cell_type": "markdown",
   "source": [
    "2. 기본 자료형\n",
    "    - int, float, str\n",
    "    - 여러줄 문자열의 경우 \"\"\", ''' 사용"
   ],
   "metadata": {
    "collapsed": false
   }
  },
  {
   "cell_type": "code",
   "execution_count": 2,
   "outputs": [],
   "source": [
    "a = 100\n",
    "b = 12.34\n",
    "c = \"python\""
   ],
   "metadata": {
    "collapsed": false,
    "pycharm": {
     "name": "#%%\n"
    }
   }
  },
  {
   "cell_type": "code",
   "execution_count": 3,
   "outputs": [
    {
     "data": {
      "text/plain": "int"
     },
     "execution_count": 3,
     "metadata": {},
     "output_type": "execute_result"
    }
   ],
   "source": [
    "type(a)\n"
   ],
   "metadata": {
    "collapsed": false,
    "pycharm": {
     "name": "#%%\n"
    }
   }
  },
  {
   "cell_type": "code",
   "execution_count": 4,
   "outputs": [
    {
     "data": {
      "text/plain": "float"
     },
     "execution_count": 4,
     "metadata": {},
     "output_type": "execute_result"
    }
   ],
   "source": [
    "type(b)"
   ],
   "metadata": {
    "collapsed": false,
    "pycharm": {
     "name": "#%%\n"
    }
   }
  },
  {
   "cell_type": "code",
   "execution_count": 5,
   "outputs": [
    {
     "data": {
      "text/plain": "str"
     },
     "execution_count": 5,
     "metadata": {},
     "output_type": "execute_result"
    }
   ],
   "source": [
    "type(c)\n"
   ],
   "metadata": {
    "collapsed": false,
    "pycharm": {
     "name": "#%%\n"
    }
   }
  },
  {
   "cell_type": "code",
   "execution_count": 6,
   "outputs": [
    {
     "name": "stdout",
     "output_type": "stream",
     "text": [
      "h\n",
      "e\n",
      "l\n",
      "l\n",
      "o\n"
     ]
    }
   ],
   "source": [
    "tem = \"\"\"h\n",
    "e\n",
    "l\n",
    "l\n",
    "o\"\"\"\n",
    "print(tem)"
   ],
   "metadata": {
    "collapsed": false,
    "pycharm": {
     "name": "#%%\n"
    }
   }
  },
  {
   "cell_type": "markdown",
   "source": [
    "3. 입력\n",
    "    - input() 함수 사용\n",
    "    - 문자열로 읽으므로 형변환 필요"
   ],
   "metadata": {
    "collapsed": false
   }
  },
  {
   "cell_type": "code",
   "execution_count": 7,
   "outputs": [
    {
     "name": "stdout",
     "output_type": "stream",
     "text": [
      "이름은  이승윤\n"
     ]
    }
   ],
   "source": [
    "name = input(\"이름: \")\n",
    "print(\"이름은 \", name)"
   ],
   "metadata": {
    "collapsed": false,
    "pycharm": {
     "name": "#%%\n"
    }
   }
  },
  {
   "cell_type": "code",
   "execution_count": 8,
   "outputs": [
    {
     "name": "stdout",
     "output_type": "stream",
     "text": [
      "3311\n",
      "44\n"
     ]
    }
   ],
   "source": [
    "a = input(\"a: \")\n",
    "b = input(\"b: \")\n",
    "print(a + b)\n",
    "print(int(a) + int(b))"
   ],
   "metadata": {
    "collapsed": false,
    "pycharm": {
     "name": "#%%\n"
    }
   }
  },
  {
   "cell_type": "markdown",
   "source": [
    "4. 문자열\n",
    "    - 인덱싱 -는 뒤에서부터 위치\n",
    "    - 슬라이싱 \\[start:end:step\\] 끝문자는 포함하지 않음\n",
    "    - upper, lower, count, find, replace\n",
    "    - split, strip, lstrip, rstrip, join, len 등"
   ],
   "metadata": {
    "collapsed": false,
    "pycharm": {
     "name": "#%% md\n"
    }
   }
  },
  {
   "cell_type": "code",
   "execution_count": 9,
   "outputs": [
    {
     "name": "stdout",
     "output_type": "stream",
     "text": [
      "!\n",
      "!\n",
      "Python\n",
      "Hlo yhn\n",
      "!nohtyP ,olleH\n",
      "14\n",
      "Hello, World!\n",
      "Hello, Python!\n"
     ]
    }
   ],
   "source": [
    "s = \"Hello, Python!\"\n",
    "print(s[-1])\n",
    "print(s[13])\n",
    "print(s[7:13]) # !는 포함 X\n",
    "print(s[::2])\n",
    "print(s[::-1])\n",
    "print(len(s))\n",
    "print(s.replace(\"Python\", \"World\"))\n",
    "print(s) # 반환 문자열에만 적용됨\n"
   ],
   "metadata": {
    "collapsed": false,
    "pycharm": {
     "name": "#%%\n"
    }
   }
  },
  {
   "cell_type": "code",
   "execution_count": 10,
   "outputs": [
    {
     "name": "stdout",
     "output_type": "stream",
     "text": [
      "format은 포맷\n",
      "여러개인 경우 2  3.14\n",
      "format 함수를 이용하는 경우 33\n",
      "template으로 format은 format, (3.14)\n"
     ]
    }
   ],
   "source": [
    "fm = \"format\"\n",
    "print(\"%s은 포맷\" % fm)\n",
    "print(\"여러개인 경우 %d %5.2f\" % (2, 3.141592))\n",
    "print(\"{} 함수를 이용하는 {} {}\".format(fm, \"경우\", 33))\n",
    "print(f\"template으로 {fm}은 {fm}, ({3.141592:.2f})\")\n"
   ],
   "metadata": {
    "collapsed": false,
    "pycharm": {
     "name": "#%%\n"
    }
   }
  },
  {
   "cell_type": "markdown",
   "source": [
    "5. 실습\n",
    "    - 반지름 -> 원의 면적, 둘레\n",
    "    - 화씨 -> 섭씨\n",
    "    - 초 -> 시간/분/초"
   ],
   "metadata": {
    "collapsed": false,
    "pycharm": {
     "name": "#%% md\n"
    }
   }
  },
  {
   "cell_type": "code",
   "execution_count": 11,
   "outputs": [
    {
     "name": "stdout",
     "output_type": "stream",
     "text": [
      "반지름: 5.0\n",
      "면적: 78.50, 둘레: 31.40\n"
     ]
    }
   ],
   "source": [
    "# 원의 면적 둘레\n",
    "r = float(input(\"반지름: \"))\n",
    "print(f\"반지름: {r}\")\n",
    "print(f\"면적: {3.14 * r * r:.2f}, 둘레: {2 * 3.14 * r:.2f}\")\n"
   ],
   "metadata": {
    "collapsed": false,
    "pycharm": {
     "name": "#%%\n"
    }
   }
  },
  {
   "cell_type": "code",
   "execution_count": 2,
   "outputs": [
    {
     "name": "stdout",
     "output_type": "stream",
     "text": [
      "화씨 100.0 -> 섭씨 37.7778\n"
     ]
    }
   ],
   "source": [
    "# 화씨 -> 섭씨\n",
    "f = float(input(\"화씨: \"))\n",
    "print(f\"화씨 {f} -> 섭씨 {(f - 32) * 5 / 9:.4f}\")"
   ],
   "metadata": {
    "collapsed": false,
    "pycharm": {
     "name": "#%%\n"
    }
   }
  },
  {
   "cell_type": "code",
   "execution_count": 1,
   "outputs": [
    {
     "name": "stdout",
     "output_type": "stream",
     "text": [
      "10000초 = 2시간 46분 40초\n"
     ]
    }
   ],
   "source": [
    "# 초 -> 시간/분/초\n",
    "second = int(input(\"초: \"))\n",
    "print(f\"{second}초 = {second // 3600}시간 {second % 3600 // 60}분 {second % 60}초\")"
   ],
   "metadata": {
    "collapsed": false,
    "pycharm": {
     "name": "#%%\n"
    }
   }
  }
 ],
 "metadata": {
  "kernelspec": {
   "name": "datascience",
   "language": "python",
   "display_name": "Python(dataScience)"
  },
  "language_info": {
   "codemirror_mode": {
    "name": "ipython",
    "version": 2
   },
   "file_extension": ".py",
   "mimetype": "text/x-python",
   "name": "python",
   "nbconvert_exporter": "python",
   "pygments_lexer": "ipython2",
   "version": "2.7.6"
  }
 },
 "nbformat": 4,
 "nbformat_minor": 0
}