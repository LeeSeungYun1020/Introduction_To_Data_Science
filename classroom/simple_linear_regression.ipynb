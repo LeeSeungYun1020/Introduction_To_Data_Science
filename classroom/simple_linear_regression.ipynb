{
  "nbformat": 4,
  "nbformat_minor": 0,
  "metadata": {
    "colab": {
      "name": "simple_linear_regression.ipynb",
      "provenance": [],
      "authorship_tag": "ABX9TyOfrOho12Ubr4IbhxKcNwrS",
      "include_colab_link": true
    },
    "kernelspec": {
      "name": "python3",
      "display_name": "Python 3"
    },
    "language_info": {
      "name": "python"
    }
  },
  "cells": [
    {
      "cell_type": "markdown",
      "metadata": {
        "id": "view-in-github",
        "colab_type": "text"
      },
      "source": [
        "<a href=\"https://colab.research.google.com/github/LeeSeungYun1020/Introduction_To_Data_Science/blob/master/classroom/simple_linear_regression.ipynb\" target=\"_parent\"><img src=\"https://colab.research.google.com/assets/colab-badge.svg\" alt=\"Open In Colab\"/></a>"
      ]
    },
    {
      "cell_type": "code",
      "metadata": {
        "colab": {
          "base_uri": "https://localhost:8080/",
          "height": 343
        },
        "id": "VsIM0Bvr8Nb6",
        "outputId": "a08f1f13-5ec4-4a1b-e20c-b59af4f8f9b4"
      },
      "source": [
        "import pandas as pd\n",
        "data = pd.DataFrame({\n",
        "    \"name\": [\"Hero\", \"Dunn\", \"Sue\", \"Chi\", \"Thor\", \"Clive\", \"Hicks\", \"Devin\", \"Kate\", \"Klein\"], \n",
        "    \"friends\": [70, 65, 72, 63, 71, 64, 60, 64, 67, 69], \n",
        "    \"minutes\":[175, 170, 205, 120, 220, 130, 105, 145, 190, 185]})\n",
        "data"
      ],
      "execution_count": 1,
      "outputs": [
        {
          "output_type": "execute_result",
          "data": {
            "text/html": [
              "<div>\n",
              "<style scoped>\n",
              "    .dataframe tbody tr th:only-of-type {\n",
              "        vertical-align: middle;\n",
              "    }\n",
              "\n",
              "    .dataframe tbody tr th {\n",
              "        vertical-align: top;\n",
              "    }\n",
              "\n",
              "    .dataframe thead th {\n",
              "        text-align: right;\n",
              "    }\n",
              "</style>\n",
              "<table border=\"1\" class=\"dataframe\">\n",
              "  <thead>\n",
              "    <tr style=\"text-align: right;\">\n",
              "      <th></th>\n",
              "      <th>name</th>\n",
              "      <th>friends</th>\n",
              "      <th>minutes</th>\n",
              "    </tr>\n",
              "  </thead>\n",
              "  <tbody>\n",
              "    <tr>\n",
              "      <th>0</th>\n",
              "      <td>Hero</td>\n",
              "      <td>70</td>\n",
              "      <td>175</td>\n",
              "    </tr>\n",
              "    <tr>\n",
              "      <th>1</th>\n",
              "      <td>Dunn</td>\n",
              "      <td>65</td>\n",
              "      <td>170</td>\n",
              "    </tr>\n",
              "    <tr>\n",
              "      <th>2</th>\n",
              "      <td>Sue</td>\n",
              "      <td>72</td>\n",
              "      <td>205</td>\n",
              "    </tr>\n",
              "    <tr>\n",
              "      <th>3</th>\n",
              "      <td>Chi</td>\n",
              "      <td>63</td>\n",
              "      <td>120</td>\n",
              "    </tr>\n",
              "    <tr>\n",
              "      <th>4</th>\n",
              "      <td>Thor</td>\n",
              "      <td>71</td>\n",
              "      <td>220</td>\n",
              "    </tr>\n",
              "    <tr>\n",
              "      <th>5</th>\n",
              "      <td>Clive</td>\n",
              "      <td>64</td>\n",
              "      <td>130</td>\n",
              "    </tr>\n",
              "    <tr>\n",
              "      <th>6</th>\n",
              "      <td>Hicks</td>\n",
              "      <td>60</td>\n",
              "      <td>105</td>\n",
              "    </tr>\n",
              "    <tr>\n",
              "      <th>7</th>\n",
              "      <td>Devin</td>\n",
              "      <td>64</td>\n",
              "      <td>145</td>\n",
              "    </tr>\n",
              "    <tr>\n",
              "      <th>8</th>\n",
              "      <td>Kate</td>\n",
              "      <td>67</td>\n",
              "      <td>190</td>\n",
              "    </tr>\n",
              "    <tr>\n",
              "      <th>9</th>\n",
              "      <td>Klein</td>\n",
              "      <td>69</td>\n",
              "      <td>185</td>\n",
              "    </tr>\n",
              "  </tbody>\n",
              "</table>\n",
              "</div>"
            ],
            "text/plain": [
              "    name  friends  minutes\n",
              "0   Hero       70      175\n",
              "1   Dunn       65      170\n",
              "2    Sue       72      205\n",
              "3    Chi       63      120\n",
              "4   Thor       71      220\n",
              "5  Clive       64      130\n",
              "6  Hicks       60      105\n",
              "7  Devin       64      145\n",
              "8   Kate       67      190\n",
              "9  Klein       69      185"
            ]
          },
          "metadata": {
            "tags": []
          },
          "execution_count": 1
        }
      ]
    },
    {
      "cell_type": "code",
      "metadata": {
        "colab": {
          "base_uri": "https://localhost:8080/",
          "height": 265
        },
        "id": "ojyQkmNa9X_h",
        "outputId": "9773cabf-6e56-4d56-8c04-ebfe1e5b8a33"
      },
      "source": [
        "import matplotlib.pyplot as plt\n",
        "plt.scatter(data[\"friends\"], data[\"minutes\"])\n",
        "plt.show()"
      ],
      "execution_count": 2,
      "outputs": [
        {
          "output_type": "display_data",
          "data": {
            "image/png": "[encoded data removed]",
            "text/plain": [
              "<Figure size 432x288 with 1 Axes>"
            ]
          },
          "metadata": {
            "tags": [],
            "needs_background": "light"
          }
        }
      ]
    },
    {
      "cell_type": "code",
      "metadata": {
        "colab": {
          "base_uri": "https://localhost:8080/",
          "height": 297
        },
        "id": "3iR3qiVc9ohL",
        "outputId": "203ce50a-06e9-4ade-beef-a7bc22eeb5c7"
      },
      "source": [
        "import seaborn as sns\n",
        "sns.scatterplot(x = \"minutes\", y = \"friends\", data = data[[\"friends\", \"minutes\"]])"
      ],
      "execution_count": 3,
      "outputs": [
        {
          "output_type": "execute_result",
          "data": {
            "text/plain": [
              "<matplotlib.axes._subplots.AxesSubplot at 0x7f7ab83997d0>"
            ]
          },
          "metadata": {
            "tags": []
          },
          "execution_count": 3
        },
        {
          "output_type": "display_data",
          "data": {
            "image/png": "[encoded data removed]",
            "text/plain": [
              "<Figure size 432x288 with 1 Axes>"
            ]
          },
          "metadata": {
            "tags": [],
            "needs_background": "light"
          }
        }
      ]
    },
    {
      "cell_type": "code",
      "metadata": {
        "colab": {
          "base_uri": "https://localhost:8080/",
          "height": 297
        },
        "id": "Yzk1ttVU-Muj",
        "outputId": "1ec015d9-232c-4f2d-f491-8134a368c474"
      },
      "source": [
        "sns.regplot(x = \"minutes\", y = \"friends\", data = data[[\"friends\", \"minutes\"]])"
      ],
      "execution_count": 4,
      "outputs": [
        {
          "output_type": "execute_result",
          "data": {
            "text/plain": [
              "<matplotlib.axes._subplots.AxesSubplot at 0x7f7ab789f7d0>"
            ]
          },
          "metadata": {
            "tags": []
          },
          "execution_count": 4
        },
        {
          "output_type": "display_data",
          "data": {
            "image/png": "[encoded data removed]",
            "text/plain": [
              "<Figure size 432x288 with 1 Axes>"
            ]
          },
          "metadata": {
            "tags": [],
            "needs_background": "light"
          }
        }
      ]
    },
    {
      "cell_type": "code",
      "metadata": {
        "colab": {
          "base_uri": "https://localhost:8080/",
          "height": 343
        },
        "id": "QhlAtkbKVI8d",
        "outputId": "614e7642-f73f-4ba9-88cc-0ccce37b7481"
      },
      "source": [
        "data[\"x-xbar\"] = data[\"friends\"] - data[\"friends\"].mean()\n",
        "data[\"y-ybar\"] = data[\"minutes\"] - data[\"minutes\"].mean()\n",
        "data"
      ],
      "execution_count": 5,
      "outputs": [
        {
          "output_type": "execute_result",
          "data": {
            "text/html": [
              "<div>\n",
              "<style scoped>\n",
              "    .dataframe tbody tr th:only-of-type {\n",
              "        vertical-align: middle;\n",
              "    }\n",
              "\n",
              "    .dataframe tbody tr th {\n",
              "        vertical-align: top;\n",
              "    }\n",
              "\n",
              "    .dataframe thead th {\n",
              "        text-align: right;\n",
              "    }\n",
              "</style>\n",
              "<table border=\"1\" class=\"dataframe\">\n",
              "  <thead>\n",
              "    <tr style=\"text-align: right;\">\n",
              "      <th></th>\n",
              "      <th>name</th>\n",
              "      <th>friends</th>\n",
              "      <th>minutes</th>\n",
              "      <th>x-xbar</th>\n",
              "      <th>y-ybar</th>\n",
              "    </tr>\n",
              "  </thead>\n",
              "  <tbody>\n",
              "    <tr>\n",
              "      <th>0</th>\n",
              "      <td>Hero</td>\n",
              "      <td>70</td>\n",
              "      <td>175</td>\n",
              "      <td>3.5</td>\n",
              "      <td>10.5</td>\n",
              "    </tr>\n",
              "    <tr>\n",
              "      <th>1</th>\n",
              "      <td>Dunn</td>\n",
              "      <td>65</td>\n",
              "      <td>170</td>\n",
              "      <td>-1.5</td>\n",
              "      <td>5.5</td>\n",
              "    </tr>\n",
              "    <tr>\n",
              "      <th>2</th>\n",
              "      <td>Sue</td>\n",
              "      <td>72</td>\n",
              "      <td>205</td>\n",
              "      <td>5.5</td>\n",
              "      <td>40.5</td>\n",
              "    </tr>\n",
              "    <tr>\n",
              "      <th>3</th>\n",
              "      <td>Chi</td>\n",
              "      <td>63</td>\n",
              "      <td>120</td>\n",
              "      <td>-3.5</td>\n",
              "      <td>-44.5</td>\n",
              "    </tr>\n",
              "    <tr>\n",
              "      <th>4</th>\n",
              "      <td>Thor</td>\n",
              "      <td>71</td>\n",
              "      <td>220</td>\n",
              "      <td>4.5</td>\n",
              "      <td>55.5</td>\n",
              "    </tr>\n",
              "    <tr>\n",
              "      <th>5</th>\n",
              "      <td>Clive</td>\n",
              "      <td>64</td>\n",
              "      <td>130</td>\n",
              "      <td>-2.5</td>\n",
              "      <td>-34.5</td>\n",
              "    </tr>\n",
              "    <tr>\n",
              "      <th>6</th>\n",
              "      <td>Hicks</td>\n",
              "      <td>60</td>\n",
              "      <td>105</td>\n",
              "      <td>-6.5</td>\n",
              "      <td>-59.5</td>\n",
              "    </tr>\n",
              "    <tr>\n",
              "      <th>7</th>\n",
              "      <td>Devin</td>\n",
              "      <td>64</td>\n",
              "      <td>145</td>\n",
              "      <td>-2.5</td>\n",
              "      <td>-19.5</td>\n",
              "    </tr>\n",
              "    <tr>\n",
              "      <th>8</th>\n",
              "      <td>Kate</td>\n",
              "      <td>67</td>\n",
              "      <td>190</td>\n",
              "      <td>0.5</td>\n",
              "      <td>25.5</td>\n",
              "    </tr>\n",
              "    <tr>\n",
              "      <th>9</th>\n",
              "      <td>Klein</td>\n",
              "      <td>69</td>\n",
              "      <td>185</td>\n",
              "      <td>2.5</td>\n",
              "      <td>20.5</td>\n",
              "    </tr>\n",
              "  </tbody>\n",
              "</table>\n",
              "</div>"
            ],
            "text/plain": [
              "    name  friends  minutes  x-xbar  y-ybar\n",
              "0   Hero       70      175     3.5    10.5\n",
              "1   Dunn       65      170    -1.5     5.5\n",
              "2    Sue       72      205     5.5    40.5\n",
              "3    Chi       63      120    -3.5   -44.5\n",
              "4   Thor       71      220     4.5    55.5\n",
              "5  Clive       64      130    -2.5   -34.5\n",
              "6  Hicks       60      105    -6.5   -59.5\n",
              "7  Devin       64      145    -2.5   -19.5\n",
              "8   Kate       67      190     0.5    25.5\n",
              "9  Klein       69      185     2.5    20.5"
            ]
          },
          "metadata": {
            "tags": []
          },
          "execution_count": 5
        }
      ]
    },
    {
      "cell_type": "code",
      "metadata": {
        "colab": {
          "base_uri": "https://localhost:8080/"
        },
        "id": "aYYH6FrUVwHO",
        "outputId": "b0a33e27-1a47-4047-c55e-8f6db857c8d2"
      },
      "source": [
        "import math\n",
        "sum(data[\"x-xbar\"] * data[\"y-ybar\"]) / math.sqrt(sum(data[\"x-xbar\"] ** 2)) / math.sqrt(sum(data[\"y-ybar\"] ** 2))"
      ],
      "execution_count": 6,
      "outputs": [
        {
          "output_type": "execute_result",
          "data": {
            "text/plain": [
              "0.9251759349101214"
            ]
          },
          "metadata": {
            "tags": []
          },
          "execution_count": 6
        }
      ]
    },
    {
      "cell_type": "code",
      "metadata": {
        "id": "tH9N-izHWx_I",
        "colab": {
          "base_uri": "https://localhost:8080/"
        },
        "outputId": "9aa812a1-b4ad-44bf-ef66-235fddde9473"
      },
      "source": [
        "data[\"friends\"].corr(data[\"minutes\"])"
      ],
      "execution_count": 7,
      "outputs": [
        {
          "output_type": "execute_result",
          "data": {
            "text/plain": [
              "0.9251759349101214"
            ]
          },
          "metadata": {
            "tags": []
          },
          "execution_count": 7
        }
      ]
    },
    {
      "cell_type": "code",
      "metadata": {
        "colab": {
          "base_uri": "https://localhost:8080/"
        },
        "id": "ukBuPyT1H-g3",
        "outputId": "a21607cf-2e5b-42ab-8892-fddab60cf44c"
      },
      "source": [
        "from sklearn.linear_model import LinearRegression\n",
        "model = LinearRegression().fit(data[[\"friends\"]], data[[\"minutes\"]])\n",
        "print(\"coef:\", model.coef_)\n",
        "print(\"intercept:\", model.intercept_)\n",
        "print(\"predict 70\", model.predict([[70]]))"
      ],
      "execution_count": 16,
      "outputs": [
        {
          "output_type": "stream",
          "text": [
            "coef: [[8.97111913]]\n",
            "intercept: [-432.07942238]\n",
            "predict 70 [[195.89891697]]\n"
          ],
          "name": "stdout"
        }
      ]
    },
    {
      "cell_type": "code",
      "metadata": {
        "colab": {
          "base_uri": "https://localhost:8080/",
          "height": 265
        },
        "id": "IT1iu-5RKn1C",
        "outputId": "3b7e1ad0-6f0d-4a15-ad90-f40f5f1e3370"
      },
      "source": [
        "import numpy as np\n",
        "plt.scatter(data[\"friends\"], data[\"minutes\"])\n",
        "tem = np.array([[60], [72]])\n",
        "plt.plot(tem, model.predict(tem), c=\"orange\")\n",
        "plt.show()"
      ],
      "execution_count": 39,
      "outputs": [
        {
          "output_type": "display_data",
          "data": {
            "image/png": "[encoded data removed]",
            "text/plain": [
              "<Figure size 432x288 with 1 Axes>"
            ]
          },
          "metadata": {
            "tags": [],
            "needs_background": "light"
          }
        }
      ]
    }
  ]
}